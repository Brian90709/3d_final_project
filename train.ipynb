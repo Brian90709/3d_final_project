{
 "cells": [
  {
   "cell_type": "code",
   "execution_count": 40,
   "metadata": {},
   "outputs": [],
   "source": [
    "import torch\n",
    "import torch.nn as nn\n",
    "import torch.nn.functional as F\n",
    "from torch.utils.data import Dataset, DataLoader\n",
    "from torch.utils.data.sampler import SubsetRandomSampler\n",
    "import torch.optim as optim\n",
    "from efficientnet_pytorch import EfficientNet\n",
    "from pathlib import Path\n",
    "import numpy as np\n",
    "import multiprocessing\n",
    "import math"
   ]
  },
  {
   "cell_type": "code",
   "execution_count": 22,
   "metadata": {},
   "outputs": [
    {
     "name": "stdout",
     "output_type": "stream",
     "text": [
      "cuda\n"
     ]
    }
   ],
   "source": [
    "# check if cuda is available\n",
    "device = 'cuda' if torch.cuda.is_available() else 'cpu'\n",
    "print(device)"
   ]
  },
  {
   "cell_type": "markdown",
   "metadata": {},
   "source": [
    "## Model"
   ]
  },
  {
   "cell_type": "code",
   "execution_count": 23,
   "metadata": {},
   "outputs": [],
   "source": [
    "v = 0     # model version\n",
    "in_c = 2  # number of input channels\n",
    "num_c = 1 # number of classes to predict"
   ]
  },
  {
   "cell_type": "code",
   "execution_count": 24,
   "metadata": {},
   "outputs": [],
   "source": [
    "# The optical flow input will look like this\n",
    "# of = torch.randn(1,2,640,480)"
   ]
  },
  {
   "cell_type": "code",
   "execution_count": 25,
   "metadata": {},
   "outputs": [
    {
     "name": "stdout",
     "output_type": "stream",
     "text": [
      "Loaded pretrained weights for efficientnet-b0\n"
     ]
    }
   ],
   "source": [
    "model = EfficientNet.from_pretrained(f'efficientnet-b{v}', in_channels=in_c, num_classes=num_c)\n",
    "model.to(device);"
   ]
  },
  {
   "cell_type": "markdown",
   "metadata": {},
   "source": [
    "#### The output of the model will look like this"
   ]
  },
  {
   "cell_type": "code",
   "execution_count": 26,
   "metadata": {},
   "outputs": [],
   "source": [
    "# of = of.to(device)\n",
    "# model(of).item()"
   ]
  },
  {
   "cell_type": "markdown",
   "metadata": {},
   "source": [
    "## Data"
   ]
  },
  {
   "cell_type": "code",
   "execution_count": 27,
   "metadata": {},
   "outputs": [],
   "source": [
    "# directory with the optical flow images\n",
    "of_dir = '../opical-flow-estimation-with-RAFT/output'\n",
    "# labels as txt file\n",
    "labels_f = 'train.txt'"
   ]
  },
  {
   "cell_type": "code",
   "execution_count": 28,
   "metadata": {},
   "outputs": [],
   "source": [
    "class OFDataset(Dataset):\n",
    "    def __init__(self, of_dir, label_f):\n",
    "        self.len = len(list(Path(of_dir).glob('*.npy')))\n",
    "        self.of_dir = of_dir\n",
    "        self.label_file = open(label_f).readlines()\n",
    "    def __len__(self): return self.len\n",
    "    def __getitem__(self, idx):\n",
    "        of_array = np.load(Path(self.of_dir)/f'{idx}.npy')\n",
    "        of_tensor = torch.squeeze(torch.Tensor(of_array))\n",
    "        label = float(self.label_file[idx].split()[0])\n",
    "        return [of_tensor, label]"
   ]
  },
  {
   "cell_type": "code",
   "execution_count": 29,
   "metadata": {},
   "outputs": [],
   "source": [
    "ds = OFDataset(of_dir, labels_f)"
   ]
  },
  {
   "cell_type": "code",
   "execution_count": 30,
   "metadata": {},
   "outputs": [],
   "source": [
    "# 80% of data for training\n",
    "# 20% of data for validation\n",
    "train_split = .8"
   ]
  },
  {
   "cell_type": "code",
   "execution_count": 31,
   "metadata": {},
   "outputs": [],
   "source": [
    "ds_size = len(ds)\n",
    "indices = list(range(ds_size))\n",
    "split = int(np.floor(train_split * ds_size))\n",
    "train_idx, val_idx = indices[:split], indices[split:]"
   ]
  },
  {
   "cell_type": "code",
   "execution_count": 32,
   "metadata": {},
   "outputs": [],
   "source": [
    "sample = ds[3]\n",
    "assert type(sample[0]) == torch.Tensor\n",
    "assert type(sample[1]) == float"
   ]
  },
  {
   "cell_type": "code",
   "execution_count": 33,
   "metadata": {},
   "outputs": [],
   "source": [
    "train_sampler = SubsetRandomSampler(train_idx)\n",
    "val_sampler = SubsetRandomSampler(val_idx)"
   ]
  },
  {
   "cell_type": "code",
   "execution_count": 34,
   "metadata": {},
   "outputs": [
    {
     "data": {
      "text/plain": [
       "8"
      ]
     },
     "execution_count": 34,
     "metadata": {},
     "output_type": "execute_result"
    }
   ],
   "source": [
    "cpu_cores = multiprocessing.cpu_count()\n",
    "cpu_cores"
   ]
  },
  {
   "cell_type": "code",
   "execution_count": 35,
   "metadata": {},
   "outputs": [],
   "source": [
    "train_dl = DataLoader(ds, batch_size=8, sampler=train_sampler, num_workers=0)\n",
    "val_dl = DataLoader(ds, batch_size=8, sampler=val_sampler, num_workers=0)"
   ]
  },
  {
   "cell_type": "code",
   "execution_count": null,
   "metadata": {},
   "outputs": [],
   "source": [
    "def plot(train_loss,val_loss,title):\n",
    "    N = len(train_loss)\n",
    "    plt.plot(range(N),train_loss,label = 'train_loss')\n",
    "    plt.plot(range(N),val_loss, label = 'val_loss')\n",
    "    plt.title(title)\n",
    "    plt.xlabel(\"epoch\")\n",
    "    plt.ylabel(\"MSE\")\n",
    "    plt.grid(True)\n",
    "    plt.legend()\n",
    "    plt.savefig(\"./loss/result.png\")\n",
    "    plt.show()"
   ]
  },
  {
   "cell_type": "markdown",
   "metadata": {},
   "source": [
    "## Train"
   ]
  },
  {
   "cell_type": "code",
   "execution_count": 36,
   "metadata": {},
   "outputs": [],
   "source": [
    "epochs = 25 \n",
    "log_train_steps = 100"
   ]
  },
  {
   "cell_type": "code",
   "execution_count": 37,
   "metadata": {},
   "outputs": [],
   "source": [
    "criterion = nn.MSELoss()\n",
    "opt = optim.Adam(model.parameters())"
   ]
  },
  {
   "cell_type": "code",
   "execution_count": null,
   "metadata": {},
   "outputs": [
    {
     "name": "stdout",
     "output_type": "stream",
     "text": [
      "0t: 2.590954065322876\n",
      "0: 2.68108868598938\n",
      "1t: 1.8530006408691406\n",
      "1: 4.91492223739624\n",
      "2t: 2.106901168823242\n",
      "2: 2.2981743812561035\n",
      "3t: 1.0425323247909546\n",
      "3: 11.310953140258789\n",
      "4t: 1.259174108505249\n",
      "4: 17.798213958740234\n",
      "5t: 1.0620850324630737\n",
      "5: 2.86309814453125\n",
      "6t: 1.119244933128357\n",
      "6: 7.951549530029297\n",
      "7t: 0.6982173323631287\n",
      "7: 1.9866344928741455\n",
      "8t: 0.8450481295585632\n",
      "8: 2.269864797592163\n",
      "9t: 0.9126380085945129\n",
      "9: 1.6741011142730713\n",
      "10t: 0.6199302673339844\n",
      "10: 2.419679880142212\n",
      "11t: 0.5272167325019836\n",
      "11: 4.0807719230651855\n",
      "12t: 0.808750569820404\n",
      "12: 2.4169180393218994\n",
      "13t: 0.40372994542121887\n",
      "13: 2.5497241020202637\n",
      "14t: 0.6809329986572266\n",
      "14: 2.3896114826202393\n"
     ]
    }
   ],
   "source": [
    "history_train_loss = []\n",
    "history_val_loss = []\n",
    "best_loss = math.inf\n",
    "for epoch in range(epochs):\n",
    "    model.train()\n",
    "    running_loss = 0.0\n",
    "    train_losses = []\n",
    "    for i, sample in enumerate(train_dl):\n",
    "        of_tensor = sample[0].cuda()\n",
    "        label = sample[1].float().cuda()\n",
    "        opt.zero_grad()\n",
    "        pred = torch.squeeze(model(of_tensor))\n",
    "        loss = criterion(pred, label)\n",
    "        train_losses.append(loss)\n",
    "        loss.backward()\n",
    "        opt.step()\n",
    "    mean_train_loss = sum(train_losses)/len(train_losses)\n",
    "    history_train_loss.append(mean_train_loss)\n",
    "    print(f'{epoch}t: {mean_train_loss}')\n",
    "    # validation\n",
    "    model.eval()\n",
    "    val_losses = []\n",
    "    with torch.no_grad():\n",
    "        for j, val_sample in enumerate(val_dl):\n",
    "            of_tensor = val_sample[0].cuda()\n",
    "            label = val_sample[1].float().cuda()\n",
    "            pred = torch.squeeze(model(of_tensor))\n",
    "            loss = criterion(pred, label)\n",
    "            val_losses.append(loss)\n",
    "        mean_val_loss = sum(val_losses)/len(val_losses)\n",
    "        if(mean_val_loss < best_loss):\n",
    "            torch.save(model.state_dict(), 'model/b0.pth')\n",
    "            best_loss = mean_val_loss\n",
    "        history_val_loss.append(mean_val_loss)\n",
    "        print(f'{epoch}: {mean_val_loss}')"
   ]
  },
  {
   "cell_type": "code",
   "execution_count": null,
   "metadata": {},
   "outputs": [],
   "source": [
    "plot(history_train_loss,history_val_loss,\"efficientnetb0\")"
   ]
  }
 ],
 "metadata": {
  "kernelspec": {
   "display_name": "Python 3",
   "language": "python",
   "name": "python3"
  },
  "language_info": {
   "codemirror_mode": {
    "name": "ipython",
    "version": 3
   },
   "file_extension": ".py",
   "mimetype": "text/x-python",
   "name": "python",
   "nbconvert_exporter": "python",
   "pygments_lexer": "ipython3",
   "version": "3.6.13"
  }
 },
 "nbformat": 4,
 "nbformat_minor": 4
}
